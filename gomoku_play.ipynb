{
 "cells": [
  {
   "cell_type": "code",
   "execution_count": 1,
   "metadata": {},
   "outputs": [
    {
     "name": "stderr",
     "output_type": "stream",
     "text": [
      "/Users/takuma/anaconda3/lib/python3.6/site-packages/h5py/__init__.py:36: FutureWarning: Conversion of the second argument of issubdtype from `float` to `np.floating` is deprecated. In future, it will be treated as `np.float64 == np.dtype(float).type`.\n",
      "  from ._conv import register_converters as _register_converters\n"
     ]
    }
   ],
   "source": [
    "import tensorflow as tf\n",
    "import numpy as np\n",
    "import random as rd\n",
    "import matplotlib.pyplot as plt\n",
    "import matplotlib.animation as anm\n",
    "from PIL import Image, ImageDraw\n",
    "import copy\n",
    "from gomoku import Game\n",
    "from gomoku import cnn\n",
    "\n",
    "# 計算グラフの構築\n",
    "size = 8\n",
    "\n",
    "# モデルの保存\n",
    "import os\n",
    "model_path = './model/'\n",
    "if not os.path.exists(model_path):\n",
    "    os.mkdir(model_path)\n",
    "saver = tf.train.Saver()\n",
    "\n",
    "with tf.Session() as sess:\n",
    "    sess.run(tf.global_variables_initializer())\n",
    "    saver.restore(sess, model_path)\n",
    "    g = Game()\n",
    "    g.iout()\n",
    "    for i in range(size*size):\n",
    "        if i % 2 is 0:\n",
    "            g.input_put()\n",
    "        else:\n",
    "            g.iout()\n",
    "            next_node = g.next_nodes()\n",
    "            next_values = []\n",
    "            for node in next_node:\n",
    "                x_game = []\n",
    "                for s in node.square:\n",
    "                    x_game.extend(s)\n",
    "                x_game = [x_game]\n",
    "                next_values.append(y.eval(feed_dict={x: x_game}, session=sess)[0])\n",
    "            g = next_node[next_values.index(max(next_values))]\n",
    "            print('Value = ', max(next_values))\n",
    "            g.iout()\n",
    "            if g.end_game(1) or g.end_game(-1):\n",
    "                break\n",
    "            "
   ]
  },
  {
   "cell_type": "code",
   "execution_count": null,
   "metadata": {},
   "outputs": [],
   "source": []
  },
  {
   "cell_type": "code",
   "execution_count": null,
   "metadata": {},
   "outputs": [],
   "source": []
  }
 ],
 "metadata": {
  "kernelspec": {
   "display_name": "Python 3",
   "language": "python",
   "name": "python3"
  },
  "language_info": {
   "codemirror_mode": {
    "name": "ipython",
    "version": 3
   },
   "file_extension": ".py",
   "mimetype": "text/x-python",
   "name": "python",
   "nbconvert_exporter": "python",
   "pygments_lexer": "ipython3",
   "version": "3.6.5"
  }
 },
 "nbformat": 4,
 "nbformat_minor": 2
}

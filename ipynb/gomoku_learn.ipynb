{
 "cells": [
  {
   "cell_type": "markdown",
   "metadata": {},
   "source": [
    "# Tensorflowを用いた強化学習の実装\n",
    "\n",
    "機械学習用ライブラリTensorflowを用いて、Pythonで強化学習を実装します。<br>\n",
    "今回のハンズオンでは、五目並べんお実装とモンテカルロ法によって自己対戦で強化学習をさせます。"
   ]
  },
  {
   "cell_type": "code",
   "execution_count": 1,
   "metadata": {},
   "outputs": [
    {
     "name": "stderr",
     "output_type": "stream",
     "text": [
      "/Users/takuma/anaconda3/lib/python3.6/site-packages/h5py/__init__.py:36: FutureWarning: Conversion of the second argument of issubdtype from `float` to `np.floating` is deprecated. In future, it will be treated as `np.float64 == np.dtype(float).type`.\n",
      "  from ._conv import register_converters as _register_converters\n"
     ]
    }
   ],
   "source": [
    "import tensorflow as tf\n",
    "import numpy as np\n",
    "import random as rd\n",
    "import matplotlib.pyplot as plt\n",
    "import matplotlib.animation as anm\n",
    "from PIL import Image, ImageDraw\n",
    "import copy\n",
    "from gomoku import Game\n",
    "from gomoku import cnn\n",
    "from gomoku import best_game\n",
    "from gomoku import best_game_p\n",
    "from gomoku import tf_model\n",
    "\n",
    "\n",
    "# 計算グラフの構築\n",
    "n_epoch = 10000\n",
    "model = tf_model()\n",
    "\n",
    "# 学習\n",
    "trail = 0\n",
    "for epoch in range(n_epoch):\n",
    "    x_batch = []\n",
    "    t_batch = []\n",
    "    print('epoch %d | ' % epoch, end='')\n",
    "    while len(x_batch) < 512:\n",
    "        # 自己対戦で学習\n",
    "        g = Game()\n",
    "        g_history = []\n",
    "        win, loss = 0, 0\n",
    "        for i in range(size*size):\n",
    "            # g.iout()\n",
    "            g_history.append(copy.deepcopy(g))\n",
    "            g = best_game_p(g, model)\n",
    "            # ゲームの終了判定\n",
    "            if g.end_game(1) or g.end_game(-1):\n",
    "                g_history.append(copy.deepcopy(g))\n",
    "                win = 1 if g.end_game(1) else -1\n",
    "                break\n",
    "\n",
    "        # すべての盤面についてバッチを作る\n",
    "        for i, g_h in enumerate(g_history):\n",
    "            x_batch.append(g_h.square)\n",
    "            q_value = [0.5] if win is 0 else [0.0] if win is 1 else [1.0]\n",
    "            t_batch.append(q_value)\n",
    "\n",
    "    # 最適化(学習)\n",
    "    perm = np.random.permutation(len(x_batch))\n",
    "    x_batch, t_batch = [x_batch[p] for p in perm], [t_batch[p] for p in perm]\n",
    "    cost = model.optimize(x_batch, t_batch)\n",
    "    print('Train loss %.6f' %(cost_))\n",
    "    g = None\n"
   ]
  },
  {
   "cell_type": "code",
   "execution_count": null,
   "metadata": {},
   "outputs": [],
   "source": []
  },
  {
   "cell_type": "code",
   "execution_count": null,
   "metadata": {},
   "outputs": [],
   "source": []
  }
 ],
 "metadata": {
  "kernelspec": {
   "display_name": "Python 3",
   "language": "python",
   "name": "python3"
  },
  "language_info": {
   "codemirror_mode": {
    "name": "ipython",
    "version": 3
   },
   "file_extension": ".py",
   "mimetype": "text/x-python",
   "name": "python",
   "nbconvert_exporter": "python",
   "pygments_lexer": "ipython3",
   "version": "3.6.5"
  }
 },
 "nbformat": 4,
 "nbformat_minor": 2
}

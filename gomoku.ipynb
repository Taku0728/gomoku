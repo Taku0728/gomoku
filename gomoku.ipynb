{
 "cells": [
  {
   "cell_type": "markdown",
   "metadata": {},
   "source": [
    "# Tensorflowを用いた強化学習の実装\n",
    "\n",
    "機械学習用ライブラリTensorflowを用いて、Pythonで強化学習を実装します。<br>\n",
    "今回のハンズオンでは、五目並べんお実装とモンテカルロ法によって自己対戦で強化学習をさせます。"
   ]
  },
  {
   "cell_type": "code",
   "execution_count": 1,
   "metadata": {},
   "outputs": [
    {
     "name": "stderr",
     "output_type": "stream",
     "text": [
      "/Users/takuma/anaconda3/lib/python3.6/site-packages/h5py/__init__.py:36: FutureWarning: Conversion of the second argument of issubdtype from `float` to `np.floating` is deprecated. In future, it will be treated as `np.float64 == np.dtype(float).type`.\n",
      "  from ._conv import register_converters as _register_converters\n"
     ]
    }
   ],
   "source": [
    "import tensorflow as tf\n",
    "import numpy as np\n",
    "import random as rd\n",
    "import matplotlib.pyplot as plt\n",
    "import matplotlib.animation as anm\n",
    "from PIL import Image, ImageDraw\n",
    "import copy\n",
    "import os\n",
    "import shutil"
   ]
  },
  {
   "cell_type": "code",
   "execution_count": 2,
   "metadata": {},
   "outputs": [],
   "source": [
    "size = 8\n",
    "\n",
    "# 五目並べのプログラム\n",
    "class Game:\n",
    "    # コンストラクタ\n",
    "    def __init__(self):\n",
    "        self.size = size\n",
    "        self.square = [[0 for _ in range(self.size)] for _ in range(self.size)]\n",
    "        self.turn = 1\n",
    "    # 石を置く\n",
    "    def put(self, row, column):\n",
    "        if 0 <= row < self.size and 0 <= column < self.size:\n",
    "            self.square[row][column] = self.turn\n",
    "        self.turn = -1 if self.turn is 1 else 1\n",
    "    # 石がおけるかどうか\n",
    "    def putable(self, row, column):\n",
    "        if 0 <= row < self.size and 0 <= column < self.size:\n",
    "            return self.square[row][column] is 0\n",
    "        else:\n",
    "            return 0\n",
    "    # ゲーム終了判定(colorの勝ち)\n",
    "    def end_game(self, color):\n",
    "        direction = [[-1, -1], [-1, 0], [-1, 1], [0, -1], [0, 1], [1, -1], [1, 0], [-1 ,-1]]\n",
    "        for i in range(self.size):\n",
    "            for j in range(self.size):\n",
    "                for d in direction:\n",
    "                    if self.fives(color, i, j, d):\n",
    "                        return 1\n",
    "        return 0\n",
    "    # 五目がつながっている判定\n",
    "    def fives(self, color, i, j, d):\n",
    "        number = 0\n",
    "        while 0 <= i < self.size and 0 <= j < self.size and self.square[i][j] is color:\n",
    "            number += 1\n",
    "            i += d[0]\n",
    "            j += d[1]\n",
    "        if number >= 5:\n",
    "            return 1\n",
    "        else:\n",
    "            return 0\n",
    "    # 盤面を表示\n",
    "    def iout(self):\n",
    "        img = np.asarray([[[0, 256, 0] if i is 0 else [0, 0, 0] if i is 1 else [256, 256, 256] for i in l] for l in self.square])\n",
    "        plt.imshow(img)\n",
    "        plt.show()\n",
    "        \n",
    "    # ランダムの着手\n",
    "    def rand_put(self):\n",
    "        i, j = -1, -1\n",
    "        while (not 0 <= i < self.size) or (not 0 <= j < self.size) or not self.putable(i, j):\n",
    "            i, j = rd.randrange(self.size), rd.randrange(self.size)\n",
    "        self.put(i, j)\n",
    "    \n",
    "    # 次のありえるすべての盤面\n",
    "    def next_nodes(self):\n",
    "        n = []\n",
    "        for i in range(self.size):\n",
    "            for j in range(self.size):\n",
    "                if self.putable(i, j):\n",
    "                    n.append(copy.deepcopy(self))\n",
    "                    n[-1].put(i, j)\n",
    "        return n\n",
    "    \n",
    "    # 入力による着手\n",
    "    def input_put(self):\n",
    "        i, j = -1, -1\n",
    "        while (not 0 <= i < self.size) or (not 0 <= j < self.size) or not self.putable(i, j):\n",
    "            i, j = map(int, input('input (row, column)').split())\n",
    "        self.put(i, j)"
   ]
  },
  {
   "cell_type": "code",
   "execution_count": 3,
   "metadata": {},
   "outputs": [],
   "source": [
    "def cnn(x):\n",
    "    x_image = tf.reshape(x, [-1, size, size, 1])    # [None, size, size, 1]\n",
    "    conv1 = tf.layers.conv2d(x_image, 128, (3,3), padding='same', activation=tf.nn.relu)    # [None, size, size, 128]\n",
    "    pool1 = tf.layers.max_pooling2d(conv1, (2,2), (2,2))    # [None, size/2, size/2, 512]\n",
    "    conv2 = tf.layers.conv2d(pool1, 256, (3,3), padding='same', activation=tf.nn.relu)    # [None, size/2, size/2, 256]\n",
    "    pool2 = tf.layers.max_pooling2d(conv2, (2,2), (2,2))    # [None, size/4, size/4, 512]\n",
    "    pool2_flat = tf.layers.flatten(pool2)    # [None, size/4*size/4*256 = size*size*16]\n",
    "    dense1 = tf.layers.dense(pool2_flat, 64, activation=tf.nn.relu)\n",
    "    y = tf.layers.dense(dense1, 1)\n",
    "    return y"
   ]
  },
  {
   "cell_type": "code",
   "execution_count": 4,
   "metadata": {},
   "outputs": [],
   "source": [
    "def best_game(g, model):\n",
    "    next_node = g.next_nodes()\n",
    "    next_values = []\n",
    "    for node in next_node:\n",
    "        # 着手の評価値を予測\n",
    "        if node.end_game(node.turn):\n",
    "            next_values.append(float('inf'))\n",
    "            break\n",
    "        next_values.append((-1 if g.turn == 1 else 1) * model.out([node.square])[0])\n",
    "    # 確率的最適手\n",
    "    g = next_node[next_values.index(max(next_values))]\n",
    "    return g\n",
    "\n",
    "def best_game_p(g, model):\n",
    "    if rd.random() < 0.005:\n",
    "        g.randput()\n",
    "        return g\n",
    "    next_node = g.next_nodes()\n",
    "    next_values = []\n",
    "    for node in next_node:\n",
    "        # 着手の評価値を予測\n",
    "        if node.end_game(node.turn):\n",
    "            next_values.append(float('inf'))\n",
    "            break\n",
    "        next_values.append(100**((-1 if g.turn == 1 else 1) * model.out([node.square])[0]))\n",
    "    sum_value = sum(next_values)\n",
    "    # 確率的最適手\n",
    "    p_value, a_value = 0, rd.random()\n",
    "    index = 0\n",
    "    for ind, v in enumerate(next_values):\n",
    "        p_value += v / sum_value\n",
    "        if p_value >= a_value:\n",
    "            index = ind\n",
    "            break\n",
    "    g = next_node[index]\n",
    "    return g"
   ]
  },
  {
   "cell_type": "code",
   "execution_count": 5,
   "metadata": {},
   "outputs": [],
   "source": [
    "class tf_model:\n",
    "    def __init__(self, size=8):\n",
    "        tf.reset_default_graph()\n",
    "        self.x = tf.placeholder(tf.float32, (None, size, size))\n",
    "        self.t = tf.placeholder(tf.float32, (None, 1))\n",
    "        self.y = cnn(self.x)\n",
    "        self.trail = 0\n",
    "        self.model_path = './model/'\n",
    "        self.logs_path = './log/'\n",
    "        self.saver = tf.train.Saver()\n",
    "        if not os.path.exists(self.model_path):\n",
    "            os.mkdir(model_path)\n",
    "        else:\n",
    "            self.load()\n",
    "        self.cost = tf.reduce_mean(tf.square(self.y - self.t))\n",
    "        self.optimizer = tf.train.AdamOptimizer(0.001).minimize(self.cost)\n",
    "        self.train_summary_loss = tf.summary.scalar('train_loss', self.cost)\n",
    "        self.saver = tf.train.Saver()\n",
    "        self.summary_writer = tf.summary.FileWriter(self.logs_path, graph=tf.get_default_graph())\n",
    "        self.sess = tf.Session()\n",
    "        self.sess.run(tf.global_variables_initializer())\n",
    "    \n",
    "    def load(self):\n",
    "        self.saver.restore(self.sess, self.model_path)\n",
    "    \n",
    "    def new_logs(self):\n",
    "        if os.path.exists(self.logs_path):\n",
    "            shutil.rmtree(self.logs_path)\n",
    "        os.mkdir(self.logs_path)\n",
    "    \n",
    "    # モデル予測値の出力\n",
    "    def out(self, X):\n",
    "        return self.y.eval(feed_dict={self.x: X}, session=self.sess)\n",
    "    \n",
    "    # 最適化\n",
    "    def optimize(self, X, T):\n",
    "        _, cost, summary_loss = self.sess.run([self.optimizer, self.cost, self.train_summary_loss], feed_dict={sefl.x:X, self.t:T})\n",
    "        # ログの保存\n",
    "        summary_writer.add_summary(summary_loss, self.trail)\n",
    "        self.trail += 1\n",
    "        # モデルの保存\n",
    "        self.saver.save(self.sess, self.model_path)"
   ]
  },
  {
   "cell_type": "code",
   "execution_count": 6,
   "metadata": {},
   "outputs": [
    {
     "data": {
      "text/plain": [
       "CompletedProcess(args=['jupyter', 'nbconvert', '--to', 'python', 'gomoku.ipynb'], returncode=0)"
      ]
     },
     "execution_count": 6,
     "metadata": {},
     "output_type": "execute_result"
    }
   ],
   "source": [
    "import subprocess\n",
    "subprocess.run(['jupyter', 'nbconvert', '--to', 'python', 'gomoku.ipynb'])"
   ]
  },
  {
   "cell_type": "code",
   "execution_count": null,
   "metadata": {},
   "outputs": [],
   "source": []
  }
 ],
 "metadata": {
  "kernelspec": {
   "display_name": "Python 3",
   "language": "python",
   "name": "python3"
  },
  "language_info": {
   "codemirror_mode": {
    "name": "ipython",
    "version": 3
   },
   "file_extension": ".py",
   "mimetype": "text/x-python",
   "name": "python",
   "nbconvert_exporter": "python",
   "pygments_lexer": "ipython3",
   "version": "3.6.5"
  }
 },
 "nbformat": 4,
 "nbformat_minor": 2
}

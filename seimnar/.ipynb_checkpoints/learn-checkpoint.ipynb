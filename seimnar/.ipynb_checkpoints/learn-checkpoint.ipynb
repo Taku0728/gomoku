{
 "cells": [
  {
   "cell_type": "markdown",
   "metadata": {},
   "source": [
    "# 強化学習\n",
    "\n",
    "## 概要\n",
    "\n",
    "1. 五目並べのAI同士の対戦によって教師データを生成します。\n",
    "1. 生成された教師データを回転、反転し、盤面数を増やします。\n",
    "1. すべての盤面に報酬（評価値）を与えます。\n",
    "1. 教師データによってCNNを最適化し、AIを更新します。\n",
    "1. 再び対戦し、1〜5を繰り返します"
   ]
  },
  {
   "cell_type": "code",
   "execution_count": 1,
   "metadata": {},
   "outputs": [
    {
     "name": "stderr",
     "output_type": "stream",
     "text": [
      "/Users/takuma/anaconda3/lib/python3.6/site-packages/h5py/__init__.py:36: FutureWarning: Conversion of the second argument of issubdtype from `float` to `np.floating` is deprecated. In future, it will be treated as `np.float64 == np.dtype(float).type`.\n",
      "  from ._conv import register_converters as _register_converters\n"
     ]
    }
   ],
   "source": [
    "import numpy as np\n",
    "import random as rd\n",
    "import copy\n",
    "from time import time\n",
    "from gomoku import *\n",
    "from value_network import *\n",
    "from ai import *\n",
    "import json"
   ]
  },
  {
   "cell_type": "code",
   "execution_count": 2,
   "metadata": {},
   "outputs": [
    {
     "name": "stdout",
     "output_type": "stream",
     "text": [
      "INFO:tensorflow:Restoring parameters from ./model/\n"
     ]
    }
   ],
   "source": [
    "size = 9 # ボードサイズ\n",
    "n_learn = 1000 # 学習サイクル数\n",
    "n_epoch = 2 # バッチごとの学習数\n",
    "batchsize = 128 # ミニバッチサイズ\n",
    "gamenumber = 128 # 学習サイクルごとの対戦数\n",
    "rate = 1e-5 # 学習率\n",
    "model = value_network_model(size, rate) # モデル"
   ]
  },
  {
   "cell_type": "code",
   "execution_count": null,
   "metadata": {},
   "outputs": [
    {
     "name": "stdout",
     "output_type": "stream",
     "text": [
      "learn 0\n",
      "boards:  27586\n",
      "epoch 0 | loss 0.984\n",
      "epoch 1 | loss 0.857\n",
      "time:168.0\n",
      "learn 1\n",
      "boards:  27197\n",
      "epoch 0 | loss 0.929\n",
      "epoch 1 | loss 0.811\n",
      "time:122.3\n",
      "learn 2\n",
      "boards:  27582\n",
      "epoch 0 | loss 0.969\n",
      "epoch 1 | loss 0.862\n",
      "time:163.9\n",
      "learn 3\n",
      "boards:  27334\n",
      "epoch 0 | loss 0.976\n",
      "epoch 1 | loss 0.861\n",
      "time:135.2\n",
      "learn 4\n",
      "boards:  27820\n",
      "epoch 0 | loss 0.931\n",
      "epoch 1 | loss 0.823\n",
      "time:142.7\n",
      "learn 5\n",
      "boards:  27381\n",
      "epoch 0 | loss 0.944\n",
      "epoch 1 | loss 0.812\n",
      "time:126.4\n",
      "learn 6\n",
      "boards:  27915\n",
      "epoch 0 | loss 0.946\n",
      "epoch 1 | loss 0.826\n",
      "time:123.3\n",
      "learn 7\n",
      "boards:  27574\n",
      "epoch 0 | loss 0.928\n",
      "epoch 1 | loss 0.803\n",
      "time:145.7\n",
      "learn 8\n",
      "boards:  27463\n",
      "epoch 0 | loss 0.940\n",
      "epoch 1 | loss 0.827\n",
      "time:211.1\n",
      "learn 9\n",
      "boards:  27580\n",
      "epoch 0 | loss 0.937\n",
      "epoch 1 | loss 0.818\n",
      "time:152.8\n",
      "learn 10\n",
      "boards:  27342\n",
      "epoch 0 | loss 0.932\n",
      "epoch 1 | loss 0.817\n",
      "time:133.2\n",
      "learn 11\n",
      "boards:  27399\n",
      "epoch 0 | loss 0.937\n",
      "epoch 1 | loss 0.819\n",
      "time:125.4\n",
      "learn 12\n",
      "boards:  27634\n",
      "epoch 0 | "
     ]
    }
   ],
   "source": [
    "# 学習\n",
    "for learn in range(n_learn):\n",
    "    x_train = [] # 教師データ（盤面）保存用リスト\n",
    "    t_train = [] # 教師データ（報酬）保存用リスト\n",
    "    start = time() # 開始時間\n",
    "    print('learn %d' % learn)\n",
    "    # 自己対戦で学習\n",
    "    for i in range(gamenumber):\n",
    "        g = Game() # 新しい五目並べゲーム\n",
    "        g.__init__() # ゲームを初期化\n",
    "        g_history = [] # 棋譜を保存\n",
    "        win = 0 # 勝者\n",
    "        for i in range(size*size):\n",
    "            g.rand_put() # ランダムに石を置く\n",
    "#             g = ai_put(g, model, random=0.2) # AIで石を置く\n",
    "            win = g.end_game() # ゲームの終了判定\n",
    "            g_history.append(copy.deepcopy(g))\n",
    "            if win != 0:\n",
    "                break # ゲームが終了していればループから出る\n",
    "        \n",
    "        \n",
    "        g_temp = copy.deepcopy(g_history[-1:])\n",
    "        \n",
    "#         # 回転、反射対象な盤面を生成\n",
    "#         for _ in range(3):\n",
    "#             for g_h in g_temp:\n",
    "#                 g_h.rotate()\n",
    "#                 g_history.append(copy.deepcopy(g_h))\n",
    "#         for g_h in g_temp:\n",
    "#             g_h.reflect()\n",
    "#         for _ in range(4):\n",
    "#             for g_h in g_temp:\n",
    "#                 g_history.append(copy.deepcopy(g_h))\n",
    "#                 g_h.rotate()\n",
    "        \n",
    "        # 学習ラベルを生成\n",
    "        for g_h in g_history:\n",
    "            # 報酬（黒勝利：1.0, 白勝利：-1.0, 引き分け：0）\n",
    "            q_value = [0.0] if win is 0 else [1.0] if win is 1 else [-1.0]\n",
    "            x_train.append(g_h.square)\n",
    "            t_train.append(q_value)\n",
    "\n",
    "    ave_loss = 0\n",
    "    # 最適化(学習)\n",
    "    print('boards: ', len(x_train))\n",
    "    for epoch in range(n_epoch):\n",
    "        print('epoch %d | ' % epoch, end='')\n",
    "        perm = np.random.permutation(len(x_train))\n",
    "        loss = 0\n",
    "        for i in range(0, len(x_train), batchsize):\n",
    "            x_batch = [x_train[j] for j in perm[i:i+batchsize]]\n",
    "            t_batch = [t_train[j] for j in perm[i:i+batchsize]]\n",
    "            # loss.append(0.1)\n",
    "            loss += model.optimize(x_batch, t_batch)\n",
    "        loss /= int(len(x_train) / batchsize)\n",
    "        print(\"loss {0:.3f}\".format(loss))\n",
    "        ave_loss += loss\n",
    "    ave_loss /= n_epoch\n",
    "    end = time()\n",
    "    print(\"time:{0:.1f}\".format(end - start))"
   ]
  },
  {
   "cell_type": "code",
   "execution_count": null,
   "metadata": {},
   "outputs": [],
   "source": []
  }
 ],
 "metadata": {
  "kernelspec": {
   "display_name": "Python 3",
   "language": "python",
   "name": "python3"
  },
  "language_info": {
   "codemirror_mode": {
    "name": "ipython",
    "version": 3
   },
   "file_extension": ".py",
   "mimetype": "text/x-python",
   "name": "python",
   "nbconvert_exporter": "python",
   "pygments_lexer": "ipython3",
   "version": "3.6.5"
  }
 },
 "nbformat": 4,
 "nbformat_minor": 2
}

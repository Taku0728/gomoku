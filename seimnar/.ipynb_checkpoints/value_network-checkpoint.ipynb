{
 "cells": [
  {
   "cell_type": "markdown",
   "metadata": {},
   "source": [
    "# 五目並べAI\n",
    "\n",
    "## 概要\n",
    "\n",
    "AIはvalue_networkと盤面探索を組み合わせています。<br>\n",
    "value_networkは五目並べの盤面から、ゲームの情勢を判断するモデルです。<br>\n",
    "AIはvalue_networkにより次のすべての盤面の中から最も自分にとって優勢のものを選択し、打つ手を決定します。<br>"
   ]
  },
  {
   "cell_type": "code",
   "execution_count": 4,
   "metadata": {},
   "outputs": [],
   "source": [
    "import tensorflow as tf\n",
    "import os"
   ]
  },
  {
   "cell_type": "markdown",
   "metadata": {},
   "source": [
    "## CNN\n",
    "\n",
    "value_networkはシンプルなCNNによって構成されています。<br>\n",
    "盤面情報を画像として入力し、黒の勝率を出力します。<br>\n",
    "\n",
    "入力次元 - (Batch_size x size x size x channel)\n",
    "- Batch_size: 学習のミニバッチのサイズ（任意）\n",
    "- size: 盤面サイズ(デフォルト9)\n",
    "- channel: 2(黒と白)\n",
    "\n",
    "出力次元 - (1)"
   ]
  },
  {
   "cell_type": "code",
   "execution_count": 7,
   "metadata": {},
   "outputs": [],
   "source": [
    "size = 9"
   ]
  },
  {
   "cell_type": "code",
   "execution_count": 5,
   "metadata": {},
   "outputs": [],
   "source": [
    "def cnn(x):\n",
    "    x_image = tf.reshape(x, [-1, size, size, 2])    # [None, size, size, 2]\n",
    "    conv1 = tf.layers.conv2d(x_image, 128, (3, 3), padding='same',\n",
    "                             activation=tf.nn.relu)    # [None, size, size, 128]\n",
    "    conv2 = tf.layers.conv2d(conv1, 128, (3, 3), padding='same',\n",
    "                             activation=tf.nn.relu)    # [None, size, size, 128]\n",
    "    pool_flat = tf.layers.flatten(conv2) # [None, size * size * 128]\n",
    "    dense = tf.layers.dense(pool_flat, 64, activation=tf.nn.relu) # [None, 64]\n",
    "    y = tf.layers.dense(dense, 1) # [None, 1]\n",
    "    return y"
   ]
  },
  {
   "cell_type": "code",
   "execution_count": 6,
   "metadata": {},
   "outputs": [],
   "source": [
    "class value_network_model:\n",
    "    def __init__(self, size=9, rate=1e-6):\n",
    "        tf.reset_default_graph()\n",
    "        self.x = tf.placeholder(tf.float32, (None, size, size, 2))\n",
    "        self.t = tf.placeholder(tf.float32, (None, 1))\n",
    "        self.y = cnn(self.x)\n",
    "        self.trail = 0\n",
    "        self.model_path = './model/'\n",
    "        self.logs_path = './log/'\n",
    "        self.saver = tf.train.Saver()\n",
    "        self.cost = tf.reduce_mean(tf.square(self.y - self.t))\n",
    "        self.optimizer = tf.train.AdamOptimizer(rate).minimize(self.cost)\n",
    "        self.train_summary_loss = tf.summary.scalar('train_loss', self.cost)\n",
    "        self.saver = tf.train.Saver()\n",
    "        self.summary_writer = tf.summary.FileWriter(\n",
    "            self.logs_path, graph=tf.get_default_graph())\n",
    "        self.sess = tf.Session()\n",
    "        self.sess.run(tf.global_variables_initializer())\n",
    "        if not os.path.exists(self.model_path):\n",
    "            os.mkdir(self.model_path)\n",
    "        else:\n",
    "            self.load()\n",
    "\n",
    "    def load(self):\n",
    "        self.saver.restore(self.sess, self.model_path)\n",
    "\n",
    "    def new_logs(self):\n",
    "        if os.path.exists(self.logs_path):\n",
    "            shutil.rmtree(self.logs_path)\n",
    "        os.mkdir(self.logs_path)\n",
    "\n",
    "    # モデル予測値の出力\n",
    "    def out(self, X):\n",
    "        return self.y.eval(feed_dict={self.x: X}, session=self.sess)\n",
    "\n",
    "    # 最適化\n",
    "    def optimize(self, X, T):\n",
    "        _, cost, summary_loss = self.sess.run(\n",
    "            [self.optimizer, self.cost, self.train_summary_loss], feed_dict={self.x: X, self.t: T})\n",
    "        # ログの保存\n",
    "        self.summary_writer.add_summary(summary_loss, self.trail)\n",
    "        self.trail += 1\n",
    "        # モデルの保存\n",
    "        self.saver.save(self.sess, self.model_path)\n",
    "        return cost"
   ]
  }
 ],
 "metadata": {
  "kernelspec": {
   "display_name": "Python 3",
   "language": "python",
   "name": "python3"
  },
  "language_info": {
   "codemirror_mode": {
    "name": "ipython",
    "version": 3
   },
   "file_extension": ".py",
   "mimetype": "text/x-python",
   "name": "python",
   "nbconvert_exporter": "python",
   "pygments_lexer": "ipython3",
   "version": "3.6.5"
  }
 },
 "nbformat": 4,
 "nbformat_minor": 2
}

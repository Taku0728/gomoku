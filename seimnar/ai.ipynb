{
 "cells": [
  {
   "cell_type": "code",
   "execution_count": 1,
   "metadata": {},
   "outputs": [
    {
     "name": "stderr",
     "output_type": "stream",
     "text": [
      "/Users/takuma/anaconda3/lib/python3.6/site-packages/h5py/__init__.py:36: FutureWarning: Conversion of the second argument of issubdtype from `float` to `np.floating` is deprecated. In future, it will be treated as `np.float64 == np.dtype(float).type`.\n",
      "  from ._conv import register_converters as _register_converters\n"
     ]
    }
   ],
   "source": [
    "import random as rd\n",
    "import numpy as np\n",
    "import matplotlib.pyplot as plt\n",
    "from gomoku import *\n",
    "from value_network import *\n",
    "from mymath import *"
   ]
  },
  {
   "cell_type": "code",
   "execution_count": 2,
   "metadata": {},
   "outputs": [],
   "source": [
    "def ai_put(g, model, random=0.):\n",
    "    if rd.random() < random:\n",
    "        g.rand_put()\n",
    "        return g\n",
    "    next_nodes = g.next_nodes()\n",
    "    next_values = []\n",
    "    for node in next_nodes:\n",
    "        if node.end_game() == g.turn:\n",
    "            return node\n",
    "        value = (1.0 if g.turn == 1 else -1.0) * model.out([node.square])[0][0]\n",
    "        next_values.append(value)\n",
    "    next_values = np.array(next_values)\n",
    "    if random == 0:\n",
    "        g = next_nodes[np.argmax(next_values)]\n",
    "    else:\n",
    "        next_values = softmax(next_values, random)\n",
    "        index = np.argmax(np.random.multinomial(1, next_values))\n",
    "        g = next_nodes[index]\n",
    "    return g"
   ]
  },
  {
   "cell_type": "code",
   "execution_count": null,
   "metadata": {},
   "outputs": [],
   "source": [
    "def value_out(g, model):\n",
    "    out_map = [[[0, 0, 0] for _ in range(g.size)] for __ in range(g.size)]\n",
    "    max_v = -float('inf')\n",
    "    min_v = float('inf')\n",
    "    for i in range(g.size):\n",
    "        for j in range(g.size):\n",
    "            s = g.square[i][j]\n",
    "            v = 0\n",
    "            if s == [0, 0]:\n",
    "                new_g = copy.deepcopy(g)\n",
    "                new_g.put(i, j)\n",
    "                v = (1.0 if g.turn == 1 else -1.0) * model.out([new_g.square])[0]\n",
    "                max_v = max(max_v, v)\n",
    "                min_v = min(min_v, v)\n",
    "            v = int((v * 255 + 255) / 2)\n",
    "            if s == [1, 0]:\n",
    "                out_map[i][j] = [0, 0, 0]\n",
    "            elif s == [0, 1]:\n",
    "                out_map[i][j] = [255, 255, 255]\n",
    "            else:\n",
    "                if v > 127:\n",
    "                    out_map[i][j] = [v, 255-v, 0]\n",
    "                else:\n",
    "                    out_map[i][j] = [0, v, 255-v]\n",
    "#     print('MAX: ', max_v, ' | MIN: ' min_v)\n",
    "    plt.imshow(np.array(out_map))\n",
    "    plt.title(\"Value Image\")\n",
    "    plt.show()"
   ]
  }
 ],
 "metadata": {
  "kernelspec": {
   "display_name": "Python 3",
   "language": "python",
   "name": "python3"
  },
  "language_info": {
   "codemirror_mode": {
    "name": "ipython",
    "version": 3
   },
   "file_extension": ".py",
   "mimetype": "text/x-python",
   "name": "python",
   "nbconvert_exporter": "python",
   "pygments_lexer": "ipython3",
   "version": "3.6.5"
  }
 },
 "nbformat": 4,
 "nbformat_minor": 2
}
